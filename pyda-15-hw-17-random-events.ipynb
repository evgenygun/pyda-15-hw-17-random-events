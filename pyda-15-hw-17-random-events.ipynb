{
 "cells": [
  {
   "cell_type": "markdown",
   "metadata": {},
   "source": [
    "# Задача\n",
    "Смоделировать игру против лотерейного автомата типа “777”. Игрок платит 1 руб., после чего выпадает случайное целое число, равномерно распределенное от 0 до 999. При некоторых значениях числа игрок получает выигрыш (см. справа)\n",
    "\n",
    "777: 200 руб.\n",
    "\n",
    "999: 100 руб.\n",
    "\n",
    "555: 50 руб.\n",
    "\n",
    "333: 15 руб.\n",
    "\n",
    "111: 10 руб.\n",
    "\n",
    "\\*77: 5 руб.\n",
    "\n",
    "\\**7: 3 руб.\n",
    "\n",
    "\\*00: 2 руб.\n",
    "\n",
    "\\**0: 1 руб.\n",
    "\n",
    "\\* – любая цифра\n",
    "\n",
    "Выгодна ли игра игроку? Сколько в среднем приобретает или теряет игрок за одну игру?"
   ]
  },
  {
   "cell_type": "code",
   "execution_count": 2,
   "metadata": {},
   "outputs": [],
   "source": [
    "import numpy as np"
   ]
  },
  {
   "cell_type": "code",
   "execution_count": 55,
   "metadata": {},
   "outputs": [
    {
     "name": "stdout",
     "output_type": "stream",
     "text": [
      "В среднем за одну игрок получает: -0.81 рубль(ей)\n"
     ]
    }
   ],
   "source": [
    "trials = 1000000\n",
    "\n",
    "entrance_fee = 1\n",
    "\n",
    "prize_sum = 0\n",
    "\n",
    "for i in range(trials):\n",
    "    \n",
    "    result = np.random.randint(0, 999)\n",
    "    \n",
    "    if result % 10 == 0: prize = 1 - entrance_fee\n",
    "    if result % 100 == 0: prize = 2 - entrance_fee\n",
    "    if result % 10 == 7: prize = 3 - entrance_fee\n",
    "    if result % 100 == 77: prize = 5 - entrance_fee\n",
    "    if result % 1000 == 111: prize = 10 - entrance_fee\n",
    "    if result % 1000 == 333: prize = 15 - entrance_fee\n",
    "    if result % 1000 == 555: prize = 50 - entrance_fee\n",
    "    if result % 1000 == 999: prize = 100 - entrance_fee\n",
    "    if result % 1000 == 777: prize = 200 - entrance_fee\n",
    "    else: prize = 0 - entrance_fee\n",
    "    \n",
    "    prize_sum = prize_sum + prize\n",
    "        \n",
    "print('В среднем за одну игрок получает:', prize_sum / trials, 'рубль(ей)')"
   ]
  },
  {
   "cell_type": "markdown",
   "metadata": {},
   "source": [
    "# Ответ\n",
    "Если сыграть в игру миллион раз при том, что автомат генерирует числа действительно случайным образом, то игрок будет в среднем выигрывать 0.81 рубля. Выгодно это или нет - решать ему."
   ]
  }
 ],
 "metadata": {
  "kernelspec": {
   "display_name": "Python 3",
   "language": "python",
   "name": "python3"
  },
  "language_info": {
   "codemirror_mode": {
    "name": "ipython",
    "version": 3
   },
   "file_extension": ".py",
   "mimetype": "text/x-python",
   "name": "python",
   "nbconvert_exporter": "python",
   "pygments_lexer": "ipython3",
   "version": "3.8.3"
  }
 },
 "nbformat": 4,
 "nbformat_minor": 4
}
